{
 "cells": [
  {
   "cell_type": "code",
   "execution_count": 1,
   "metadata": {},
   "outputs": [
    {
     "data": {
      "text/plain": [
       "'0x73eda753299d7d483339d80809a1d80553bda402fffe5bfeffffffff00000001'"
      ]
     },
     "execution_count": 1,
     "metadata": {},
     "output_type": "execute_result"
    }
   ],
   "source": [
    "hex(52435875175126190479447740508185965837690552500527637822603658699938581184513)"
   ]
  },
  {
   "cell_type": "code",
   "execution_count": 2,
   "metadata": {},
   "outputs": [
    {
     "name": "stdout",
     "output_type": "stream",
     "text": [
      "0x895e85c7af747dfe9b49261cfd69000928e038bd867259b7f7ae1ff84681614\n"
     ]
    }
   ],
   "source": [
    "# Check1\n",
    "\n",
    "BLS12_381_FR = 0x73eda753299d7d483339d80809a1d80553bda402fffe5bfeffffffff00000001\n",
    "P = BLS12_381_FR\n",
    "A = 0xec16b4441608ea5c955282418f882a4bdfd42168ccf447394f1d4546b9ca4c5\n",
    "B = 0x547e4510e6c9d8b086d8a258704296b37ebaa877ee6fe9e43b4a3a84f9854f5f\n",
    "\n",
    "print(hex((A*B)%P))"
   ]
  },
  {
   "cell_type": "code",
   "execution_count": 2,
   "metadata": {},
   "outputs": [
    {
     "name": "stdout",
     "output_type": "stream",
     "text": [
      "0x3ff007093d47cd14370f5585a6f9a02850bdac81591dce2ad4de45951169918e\n",
      "0x1f63261a17e7a4ecc9ee49f8ec4e51c7fd65a997812457b6fa4a64d424678003\n"
     ]
    }
   ],
   "source": [
    "A = 0x69a06a3b3f6677a49a1bbbc34e74e4fad0f07d0ded2040f0679455341ae888c9\n",
    "B = 0x5f699348721708d60f83e3205a8a172b30584d19880212f22b6d0c83fad7c5e6\n",
    "P = 0x73eda753299d7d483339d80809a1d80553bda402fffe5bfeffffffff00000001\n",
    "omega = 3465144826073652318776269530687742778270252468765361963008\n",
    "\n",
    "A_o = (A + B * omega) % P\n",
    "A_e = (A - B * omega) % P\n",
    "\n",
    "print(hex(A_o))\n",
    "print(hex(A_e))"
   ]
  },
  {
   "cell_type": "code",
   "execution_count": null,
   "metadata": {},
   "outputs": [],
   "source": []
  }
 ],
 "metadata": {
  "kernelspec": {
   "display_name": "Python 3",
   "language": "python",
   "name": "python3"
  },
  "language_info": {
   "codemirror_mode": {
    "name": "ipython",
    "version": 3
   },
   "file_extension": ".py",
   "mimetype": "text/x-python",
   "name": "python",
   "nbconvert_exporter": "python",
   "pygments_lexer": "ipython3",
   "version": "3.10.12"
  }
 },
 "nbformat": 4,
 "nbformat_minor": 2
}
