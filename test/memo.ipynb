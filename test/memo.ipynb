{
 "cells": [
  {
   "cell_type": "code",
   "execution_count": 3,
   "metadata": {},
   "outputs": [],
   "source": [
    "BLS12_381_FR = 0x73eda753299d7d483339d80809a1d80553bda402fffe5bfeffffffff00000001\n",
    "\n"
   ]
  },
  {
   "cell_type": "code",
   "execution_count": 4,
   "metadata": {},
   "outputs": [
    {
     "name": "stdout",
     "output_type": "stream",
     "text": [
      "0x895e85c7af747dfe9b49261cfd69000928e038bd867259b7f7ae1ff84681614\n"
     ]
    }
   ],
   "source": [
    "P = BLS12_381_FR\n",
    "A = 0xec16b4441608ea5c955282418f882a4bdfd42168ccf447394f1d4546b9ca4c5\n",
    "B = 0x547e4510e6c9d8b086d8a258704296b37ebaa877ee6fe9e43b4a3a84f9854f5f\n",
    "\n",
    "print(hex((A*B)%P))"
   ]
  },
  {
   "cell_type": "code",
   "execution_count": 5,
   "metadata": {},
   "outputs": [
    {
     "name": "stdout",
     "output_type": "stream",
     "text": [
      "0xd5039d89dbd10a47ee3219ae9f0bb6c1996fe5967bfaf40f89e87ed57986b20\n"
     ]
    }
   ],
   "source": [
    "P = BLS12_381_FR\n",
    "A = 0x45ac411bed701ce7f02188e01653c6ccd89bf96021e9d95b52b2a2ba23d89d20\n",
    "B = 0x3683eb4ea07253bd6c974375cec2fbe36b8a69643d13a7db647ae6a66f793473\n",
    "\n",
    "print(hex((A*B)%P))"
   ]
  },
  {
   "cell_type": "code",
   "execution_count": 8,
   "metadata": {},
   "outputs": [
    {
     "name": "stdout",
     "output_type": "stream",
     "text": [
      "Coefficient 0: 0x6f0e70ae22fac4a3f1dddf3930c4dea271bff47db7633b078e8fe329a20a8409\n",
      "Coefficient 1: 0x6f0e70ae22fac4a3f1dddf3930c4dea271bff47db7633b078e8fe329a20a8409\n"
     ]
    }
   ],
   "source": [
    "import numpy as np\n",
    "from gmpy2 import mpz\n",
    "\n",
    "# Function to read bigint<4> values from a binary file\n",
    "def read_bigint_file(filename, element_size=32):\n",
    "    values = []\n",
    "    with open(filename, \"rb\") as f:\n",
    "        while True:\n",
    "            data = f.read(element_size)\n",
    "            if not data:\n",
    "                break\n",
    "            value = int.from_bytes(data, byteorder='little', signed=False)\n",
    "            values.append(mpz(value))\n",
    "    return values\n",
    "\n",
    "# Function to perform NTT using Negative Wrapped Convolution (NWC)\n",
    "def ntt_nwc(values, omega, modulus):\n",
    "    n = len(values)\n",
    "    result = [mpz(0)] * n\n",
    "    for k in range(n):\n",
    "        for j in range(n):\n",
    "            result[k] += values[j] * pow(omega, (j * k) % n, modulus)\n",
    "            result[k] %= modulus\n",
    "    return result\n",
    "\n",
    "# Function to perform polynomial multiplication using NWC\n",
    "def polynomial_multiplication_ntt(a, b, omega, modulus):\n",
    "    n = len(a)\n",
    "    # Forward NTT on both polynomials\n",
    "    ntt_a = ntt_nwc(a, omega, modulus)\n",
    "    ntt_b = ntt_nwc(b, omega, modulus)\n",
    "    \n",
    "    # Pointwise multiplication in NTT domain\n",
    "    ntt_c = [(ntt_a[i] * ntt_b[i]) % modulus for i in range(n)]\n",
    "    \n",
    "    # Inverse NTT (using omega^{-1})\n",
    "    omega_inv = pow(omega, -1, modulus)\n",
    "    c = ntt_nwc(ntt_c, omega_inv, modulus)\n",
    "    \n",
    "    # Normalize the result by dividing by n (modular inverse of n)\n",
    "    n_inv = pow(n, -1, modulus)\n",
    "    c = [(c[i] * n_inv) % modulus for i in range(n)]\n",
    "    \n",
    "    return c\n",
    "\n",
    "# Main function\n",
    "def main():\n",
    "    # Read input polynomials from binary files\n",
    "    a = read_bigint_file(\"../build/data/input_a.txt\")\n",
    "    b = read_bigint_file(\"../build/data/input_b.txt\")\n",
    "\n",
    "    # Parameters for NTT\n",
    "    modulus = mpz('0x73eda753299d7d483339d80809a1d80553bda402fffe5bfeffffffff00000001')\n",
    "    omega = pow(3, (modulus - 1) // len(a), modulus)  # Primitive 2n-th root of unity\n",
    "\n",
    "    # Perform polynomial multiplication using NWC and NTT\n",
    "    result = polynomial_multiplication_ntt(a, b, omega, modulus)\n",
    "\n",
    "    # Print the result\n",
    "    for i, coeff in enumerate(result):\n",
    "        print(f\"Coefficient {i}: {hex(coeff)}\")\n",
    "\n",
    "    \n",
    "\n",
    "if __name__ == \"__main__\":\n",
    "    main()\n"
   ]
  },
  {
   "cell_type": "code",
   "execution_count": null,
   "metadata": {},
   "outputs": [],
   "source": []
  }
 ],
 "metadata": {
  "kernelspec": {
   "display_name": "Python 3",
   "language": "python",
   "name": "python3"
  },
  "language_info": {
   "codemirror_mode": {
    "name": "ipython",
    "version": 3
   },
   "file_extension": ".py",
   "mimetype": "text/x-python",
   "name": "python",
   "nbconvert_exporter": "python",
   "pygments_lexer": "ipython3",
   "version": "3.10.12"
  }
 },
 "nbformat": 4,
 "nbformat_minor": 2
}
