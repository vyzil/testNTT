{
 "cells": [
  {
   "cell_type": "code",
   "execution_count": 3,
   "metadata": {},
   "outputs": [],
   "source": [
    "BLS12_381_FR = 0x73eda753299d7d483339d80809a1d80553bda402fffe5bfeffffffff00000001\n",
    "\n"
   ]
  },
  {
   "cell_type": "code",
   "execution_count": 4,
   "metadata": {},
   "outputs": [
    {
     "name": "stdout",
     "output_type": "stream",
     "text": [
      "0x895e85c7af747dfe9b49261cfd69000928e038bd867259b7f7ae1ff84681614\n"
     ]
    }
   ],
   "source": [
    "P = BLS12_381_FR\n",
    "A = 0xec16b4441608ea5c955282418f882a4bdfd42168ccf447394f1d4546b9ca4c5\n",
    "B = 0x547e4510e6c9d8b086d8a258704296b37ebaa877ee6fe9e43b4a3a84f9854f5f\n",
    "\n",
    "print(hex((A*B)%P))"
   ]
  },
  {
   "cell_type": "code",
   "execution_count": 5,
   "metadata": {},
   "outputs": [
    {
     "name": "stdout",
     "output_type": "stream",
     "text": [
      "0xd5039d89dbd10a47ee3219ae9f0bb6c1996fe5967bfaf40f89e87ed57986b20\n"
     ]
    }
   ],
   "source": [
    "P = BLS12_381_FR\n",
    "A = 0x45ac411bed701ce7f02188e01653c6ccd89bf96021e9d95b52b2a2ba23d89d20\n",
    "B = 0x3683eb4ea07253bd6c974375cec2fbe36b8a69643d13a7db647ae6a66f793473\n",
    "\n",
    "print(hex((A*B)%P))"
   ]
  },
  {
   "cell_type": "code",
   "execution_count": 6,
   "metadata": {},
   "outputs": [
    {
     "name": "stdout",
     "output_type": "stream",
     "text": [
      "{10177, 2, 3, 859267, 254760293, 11, 52437899, 906349, 19, 125527, 2508409, 2529403}\n",
      "Smallest primitive root of 52435875175126190479447740508185965837690552500527637822603658699938581184513 is 7\n"
     ]
    }
   ],
   "source": [
    "# Python3 program to find primitive root\n",
    "# of a given number n\n",
    "from math import sqrt\n",
    "from gmpy2 import is_prime\n",
    "import primefac\n",
    "\n",
    "# Function to find smallest primitive\n",
    "# root of n\n",
    "def findPrimitive(n):\n",
    "\n",
    "    if is_prime(n) == False:\n",
    "        return -1\n",
    "\n",
    "    phi = n - 1\n",
    "\n",
    "    # Find prime factors of phi and store in a set\n",
    "    s = set(primefac.primefac(phi))\n",
    "    print(s)\n",
    "\n",
    "    # Check for every number from 2 to phi\n",
    "    for r in range(2, phi + 1):\n",
    "\n",
    "        # Iterate through all prime factors of phi.\n",
    "        # and check if we found a power with value 1\n",
    "        flag = False\n",
    "        for it in s:\n",
    "\n",
    "            # Check if r^((phi)/primefactors)\n",
    "            # mod n is 1 or not\n",
    "            if pow(r, phi // it, n) == 1:\n",
    "\n",
    "                flag = True\n",
    "                break\n",
    "\n",
    "        # If there was no power with value 1.\n",
    "        if flag == False:\n",
    "            return r\n",
    "\n",
    "    # If no primitive root found\n",
    "    return -1\n",
    "\n",
    "\n",
    "# Driver Code\n",
    "n = 0x73EDA753299D7D483339D80809A1D80553BDA402FFFE5BFEFFFFFFFF00000001\n",
    "print(\"Smallest primitive root of\", n, \"is\", findPrimitive(n))"
   ]
  },
  {
   "cell_type": "code",
   "execution_count": 28,
   "metadata": {},
   "outputs": [],
   "source": [
    "import numpy as np\n",
    "from gmpy2 import mpz\n",
    "\n",
    "def ntt(values, omega, modulus):\n",
    "    n = len(values)\n",
    "    if n == 1:\n",
    "        return values\n",
    "    even_vals = ntt(values[0::2], pow(omega, 2, modulus), modulus)\n",
    "    odd_vals = ntt(values[1::2], pow(omega, 2, modulus), modulus)\n",
    "    \n",
    "    factor = 1\n",
    "    result = [mpz(0)] * n\n",
    "    half = n // 2\n",
    "    for i in range(half):\n",
    "        temp = (factor * odd_vals[i]) % modulus\n",
    "        result[i] = (even_vals[i] + temp) % modulus\n",
    "        result[i + half] = (even_vals[i] - temp) % modulus\n",
    "        factor = (factor * omega) % modulus\n",
    "    return result\n",
    "\n",
    "def inverse_ntt(values, omega_inv, modulus):\n",
    "    n = len(values)\n",
    "    result = ntt(values, omega_inv, modulus)\n",
    "    n_inv = pow(n, -1, modulus)\n",
    "    return [(x * n_inv) % modulus for x in result]\n",
    "\n",
    "# Function to perform polynomial multiplication using NWC\n",
    "def polynomial_multiplication_ntt(a, b, omega, modulus):\n",
    "    n = len(a)\n",
    "    # Forward NTT on both polynomials\n",
    "    ntt_a = ntt(a, omega, modulus)\n",
    "    ntt_b = ntt(b, omega, modulus)\n",
    "    \n",
    "    # Pointwise multiplication in NTT domain\n",
    "    ntt_c = [(ntt_a[i] * ntt_b[i]) % modulus for i in range(n)]\n",
    "    \n",
    "    # Inverse NTT\n",
    "    omega_inv = pow(omega, -1, modulus)\n",
    "    c = inverse_ntt(ntt_c, omega_inv, modulus)\n",
    "    \n",
    "    return c\n",
    "\n",
    "def print_polynomial(a):\n",
    "    print('-'*50)\n",
    "    for i, coeff in enumerate(a):\n",
    "        print(f\"Coefficient {i}: {hex(coeff)} ({coeff})\")\n",
    "    print('-'*50)"
   ]
  },
  {
   "cell_type": "code",
   "execution_count": 32,
   "metadata": {},
   "outputs": [
    {
     "name": "stdout",
     "output_type": "stream",
     "text": [
      "--------------------------------------------------\n",
      "Coefficient 0: 0x1 (1)\n",
      "Coefficient 1: 0x2 (2)\n",
      "--------------------------------------------------\n",
      "--------------------------------------------------\n",
      "Coefficient 0: 0x3 (3)\n",
      "Coefficient 1: 0x4 (4)\n",
      "--------------------------------------------------\n",
      "--------------------------------------------------\n",
      "Coefficient 0: 0xb (11)\n",
      "Coefficient 1: 0xa (10)\n",
      "--------------------------------------------------\n"
     ]
    }
   ],
   "source": [
    "# Function to read bigint<4> values from a binary file\n",
    "def read_bigint_file(filename, element_size=32):\n",
    "    values = []\n",
    "    with open(filename, \"rb\") as f:\n",
    "        while True:\n",
    "            data = f.read(element_size)\n",
    "            if not data:\n",
    "                break\n",
    "            value = int.from_bytes(data, byteorder='little', signed=False)\n",
    "            values.append(mpz(value))\n",
    "    return values\n",
    "\n",
    "# Main function\n",
    "def main():\n",
    "    # Read input polynomials from binary files\n",
    "    a = [mpz(1), mpz(2)]\n",
    "    b = [mpz(3), mpz(4)]\n",
    "\n",
    "    # Parameters for NTT\n",
    "    modulus = mpz('0x73eda753299d7d483339d80809a1d80553bda402fffe5bfeffffffff00000001')\n",
    "    omega = mpz('3465144826073652318776269530687742778270252468765361963008')\n",
    "    # Primitive 2n-th root of unity\n",
    "\n",
    "    # Perform polynomial multiplication using NWC and NTT\n",
    "    c = polynomial_multiplication_ntt(a, b, omega, modulus)\n",
    "\n",
    "    # Print the result\n",
    "    print_polynomial(a)\n",
    "    print_polynomial(b)\n",
    "    print_polynomial(c)\n",
    "    \n",
    "\n",
    "if __name__ == \"__main__\":\n",
    "    main()\n"
   ]
  },
  {
   "cell_type": "code",
   "execution_count": 31,
   "metadata": {},
   "outputs": [
    {
     "name": "stdout",
     "output_type": "stream",
     "text": [
      "--------------------------------------------------\n",
      "Coefficient 0: 0x69a06a3b3f6677a49a1bbbc34e74e4fad0f07d0ded2040f0679455341ae888c9 (47776277814033952433763050678231901420087055211578601955827204569246456121545)\n",
      "Coefficient 1: 0x5f699348721708d60f83e3205a8a172b30584d19880212f22b6d0c83fad7c5e6 (43156256067056252598399532458876302212078633050381310887173681826697148089830)\n",
      "--------------------------------------------------\n",
      "--------------------------------------------------\n",
      "Coefficient 0: 0x205903ea0489513c68fd5dbcc02f38f8aa18518c723c4a4ee084a8386246b19a (14631287557774099357164870252181119603705593507631397245646808807593795301786)\n",
      "Coefficient 1: 0x5c1c4d5d469c3478fb4d40aed0e39be97e0870b99610d2f1cb2d3f4aa1e3ebfc (41662787736654164824722229693790626207035314492169741764232259058989898394620)\n",
      "--------------------------------------------------\n",
      "--------------------------------------------------\n",
      "Coefficient 0: 0x28da7877d75d5c1a9ce4872b86b72fc562ea8a518a9d02f6a7d1241839606a4 (1154907377745510017025748789444255198229674042344861813311106730128062154404)\n",
      "Coefficient 1: 0x2e00d17536fec2840bedc0d6f015421473d7c78785663b454d08a6deed6ee249 (20807836659922159013971832644536252279137867827168958457263050095055634096713)\n",
      "--------------------------------------------------\n"
     ]
    }
   ],
   "source": [
    "# Main function\n",
    "def main():\n",
    "    # Read input polynomials from binary files\n",
    "    a = read_bigint_file(\"../build/data/input_a.txt\")\n",
    "    b = read_bigint_file(\"../build/data/input_b.txt\")\n",
    "    \n",
    "    # Parameters for NTT\n",
    "    modulus = mpz('0x73eda753299d7d483339d80809a1d80553bda402fffe5bfeffffffff00000001')\n",
    "    omega = mpz('3465144826073652318776269530687742778270252468765361963008')\n",
    "    # Primitive 2n-th root of unity\n",
    "\n",
    "    # Perform polynomial multiplication using NWC and NTT\n",
    "    c = polynomial_multiplication_ntt(a, b, omega, modulus)\n",
    "\n",
    "    # Print the result\n",
    "    print_polynomial(a)\n",
    "    print_polynomial(b)\n",
    "    print_polynomial(c)\n",
    "\n",
    "if __name__ == \"__main__\":\n",
    "    main()\n"
   ]
  },
  {
   "cell_type": "code",
   "execution_count": 18,
   "metadata": {},
   "outputs": [
    {
     "name": "stdout",
     "output_type": "stream",
     "text": [
      "0x3ff007093d47cd14370f5585a6f9a02850bdac81591dce2ad4de45951169918e\n",
      "0x1f63261a17e7a4ecc9ee49f8ec4e51c7fd65a997812457b6fa4a64d424678003\n"
     ]
    }
   ],
   "source": [
    "A = 0x69a06a3b3f6677a49a1bbbc34e74e4fad0f07d0ded2040f0679455341ae888c9\n",
    "B = 0x5f699348721708d60f83e3205a8a172b30584d19880212f22b6d0c83fad7c5e6\n",
    "P = 0x73eda753299d7d483339d80809a1d80553bda402fffe5bfeffffffff00000001\n",
    "omega = 3465144826073652318776269530687742778270252468765361963008\n",
    "\n",
    "A_o = (A + B * omega) % P\n",
    "A_e = (A - B * omega) % P\n",
    "\n",
    "print(hex(o))\n",
    "print(hex(e))"
   ]
  },
  {
   "cell_type": "code",
   "execution_count": null,
   "metadata": {},
   "outputs": [],
   "source": []
  }
 ],
 "metadata": {
  "kernelspec": {
   "display_name": "Python 3",
   "language": "python",
   "name": "python3"
  },
  "language_info": {
   "codemirror_mode": {
    "name": "ipython",
    "version": 3
   },
   "file_extension": ".py",
   "mimetype": "text/x-python",
   "name": "python",
   "nbconvert_exporter": "python",
   "pygments_lexer": "ipython3",
   "version": "3.10.12"
  }
 },
 "nbformat": 4,
 "nbformat_minor": 2
}
