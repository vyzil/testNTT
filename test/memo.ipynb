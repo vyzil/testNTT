{
 "cells": [
  {
   "cell_type": "markdown",
   "metadata": {},
   "source": [
    "## Polynomial Multiplication Using NTT"
   ]
  },
  {
   "cell_type": "code",
   "execution_count": null,
   "metadata": {},
   "outputs": [
    {
     "name": "stdout",
     "output_type": "stream",
     "text": [
      "# NTT Test\n",
      "--------------------------------------------------\n",
      "Coefficient 0: 0x1 (1)\n",
      "Coefficient 1: 0x2 (2)\n",
      "Coefficient 2: 0x3 (3)\n",
      "Coefficient 3: 0x4 (4)\n",
      "--------------------------------------------------\n",
      "--------------------------------------------------\n",
      "Coefficient 0: 0x1 (1)\n",
      "Coefficient 1: 0x2 (2)\n",
      "Coefficient 2: 0x3 (3)\n",
      "Coefficient 3: 0x4 (4)\n",
      "--------------------------------------------------\n"
     ]
    }
   ],
   "source": [
    "import numpy as np\n",
    "import gmpy2\n",
    "from gmpy2 import mpz\n",
    "\n",
    "# Parameters for NTT\n",
    "MODULUS = mpz('52435875175126190479447740508185965837690552500527637822603658699938581184513')\n",
    "ROOT_OF_UNITY_BASE = mpz('10238227357739495823651030575849232062558860180284477541189508159991286009131') # 2^32\n",
    "\n",
    "def get_root_of_unity(n):\n",
    "    logn = n.bit_length() - 1\n",
    "    s = 32\n",
    "    if n != (1 << logn):\n",
    "        raise ValueError(\"Expected n to be a power of 2.\")\n",
    "    if logn > s:\n",
    "        raise ValueError(\"Expected logn <= s.\")\n",
    "    \n",
    "    # Calculate the root of unity for the given n\n",
    "    omega = ROOT_OF_UNITY_BASE\n",
    "    for _ in range(s, logn, -1):\n",
    "        omega = gmpy2.powmod(omega, 2, MODULUS)\n",
    "    \n",
    "    return omega\n",
    "\n",
    "def ntt(poly, omega, modulus, is_inv = False):\n",
    "    n = len(poly)\n",
    "    logn = n.bit_length() - 1\n",
    "    array = [mpz(e) for e in poly]\n",
    "    \n",
    "    # Bit-reverse permutation\n",
    "    j = 0\n",
    "    for i in range(1, n):\n",
    "        bit = n >> 1\n",
    "        while j & bit:\n",
    "            j ^= bit\n",
    "            bit >>= 1\n",
    "        j ^= bit\n",
    "        if i < j:\n",
    "            array[i], array[j] = array[j], array[i]\n",
    "\n",
    "    if is_inv == True:\n",
    "        omega = gmpy2.invert(omega, modulus)\n",
    "    \n",
    "    # Iterative NTT\n",
    "    group_size = 1\n",
    "    for stage in range(1, logn+1):\n",
    "        group_size *= 2\n",
    "        group_omega_mult = gmpy2.powmod(omega, n//group_size, modulus)\n",
    "        for group in range(0, n, group_size):\n",
    "            factor = mpz(1)\n",
    "            for operation in range(group_size // 2):\n",
    "                bw = (factor * array[group + operation + group_size // 2]) % modulus\n",
    "                a  = array[group + operation]\n",
    "                array[group + operation]                   = (a + bw) % modulus\n",
    "                array[group + operation + group_size // 2] = (a - bw) % modulus\n",
    "                factor = (factor * group_omega_mult) % modulus\n",
    "    \n",
    "    if(is_inv):\n",
    "        n_inv = pow(n, -1, modulus)\n",
    "        array = [(x * n_inv) % modulus for x in array]\n",
    "\n",
    "    return array\n",
    "\n",
    "# Function to perform polynomial multiplication using NWC\n",
    "def polynomial_multiplication_ntt(a, b):\n",
    "    n = len(a)\n",
    "    omega = get_root_of_unity(n)\n",
    "    print(\"omega :\", omega)\n",
    "    modulus = MODULUS\n",
    "\n",
    "    ntt_a = ntt(a, omega, modulus)\n",
    "    ntt_b = ntt(b, omega, modulus)\n",
    "    ntt_c = [(ntt_a[i] * ntt_b[i]) % modulus for i in range(n)]\n",
    "    c = ntt(ntt_c, omega, modulus, is_inv=True)\n",
    "    \n",
    "    return c\n",
    "\n",
    "def print_polynomial(a):\n",
    "    print('-'*50)\n",
    "    for i, coeff in enumerate(a):\n",
    "        print(f\"Coefficient {i}: {hex(coeff)} ({coeff})\")\n",
    "    print('-'*50)\n",
    "\n",
    "\n",
    "# Test Code\n",
    "original_poly = [1, 2, 3, 4]\n",
    "modulus = mpz('0x73eda753299d7d483339d80809a1d80553bda402fffe5bfeffffffff00000001')\n",
    "\n",
    "omega = get_root_of_unity(len(original_poly))\n",
    "\n",
    "ntt_result = ntt(original_poly, omega, modulus)\n",
    "inv_result = ntt(ntt_result, omega, modulus, is_inv=True)\n",
    "\n",
    "print(\"# NTT Test\")\n",
    "print_polynomial(original_poly)\n",
    "print_polynomial(inv_result)"
   ]
  },
  {
   "cell_type": "code",
   "execution_count": 5,
   "metadata": {},
   "outputs": [
    {
     "name": "stdout",
     "output_type": "stream",
     "text": [
      "omega : 3465144826073652318776269530687742778270252468765361963008\n",
      "--------------------------------------------------\n",
      "Coefficient 0: 0x1 (1)\n",
      "Coefficient 1: 0x2 (2)\n",
      "--------------------------------------------------\n",
      "--------------------------------------------------\n",
      "Coefficient 0: 0x3 (3)\n",
      "Coefficient 1: 0x5 (5)\n",
      "--------------------------------------------------\n",
      "--------------------------------------------------\n",
      "Coefficient 0: 0xd (13)\n",
      "Coefficient 1: 0xb (11)\n",
      "--------------------------------------------------\n"
     ]
    }
   ],
   "source": [
    "# Read input polynomials from binary files\n",
    "a = [mpz(1), mpz(2)]\n",
    "b = [mpz(3), mpz(5)]\n",
    "\n",
    "# Perform polynomial multiplication using NWC and NTT\n",
    "c = polynomial_multiplication_ntt(a, b)\n",
    "\n",
    "# Print the result\n",
    "print_polynomial(a)\n",
    "print_polynomial(b)\n",
    "print_polynomial(c)"
   ]
  },
  {
   "cell_type": "code",
   "execution_count": 8,
   "metadata": {},
   "outputs": [
    {
     "name": "stdout",
     "output_type": "stream",
     "text": [
      "omega : 14788168760825820622209131888203028446852016562542525606630160374691593895118\n",
      "--------------------------------------------------\n",
      "Coefficient 0: 0x4b7d47d025435094dae81f85c2ce991dbcffe828b91d97e4606e0608ea4defc8 (34144815162426052549053130451593758100829933428756958429871266687858317848520)\n",
      "Coefficient 1: 0x6d1cd0753cef52936afe549f2560daf08319cbc7547b8829aea7f9cc7e01f252 (49353010937360912679503738262692982172246841030904359723178893100382196724306)\n",
      "Coefficient 2: 0x552ff07754c436720774f5e6d1e880d36e35d9d97fe5837432c3e0fc48ea0c63 (38531293577906059915352461199704451367706035671621843687369485518822173183075)\n",
      "Coefficient 3: 0x50d6f437e5095a6c89e1bab4cd68279cdf977898a7a48a497e1b214fc8cb95ad (36564818691549931390331471265020958081606866926664567714799240820433718318509)\n",
      "Coefficient 4: 0x426baf6291b85cdd6b96e30f7b442857bde6eb3d7b769601af4346e58fbf8110 (30042911105458455215085515726541680193528287050962282037862571049252791746832)\n",
      "Coefficient 5: 0x24a6bffe8b8716905c3f56ac79b413fd3c503e12c2b11ba27d311104b00f1b (64757360382122940678269407617198817177617016311567563985460236935484149531)\n",
      "Coefficient 6: 0x32788d7771d96cb9fa035097aba738cb3d319024f70ce42535507df629e39935 (22828640443395008696120905777284941843509588821736116605812204627020503816501)\n",
      "Coefficient 7: 0x6518cf1add0bef4489e71ff13bc1e4ae1e953d68db4f86c7fdefcbc9cfb7ca27 (45727431422195911526937008037847894072371393153276345245072580763632329542183)\n",
      "--------------------------------------------------\n",
      "--------------------------------------------------\n",
      "Coefficient 0: 0x6d15f56391e74dddd7acaa4394cd16e093e8500d41dee071faaa3f6f41a14b4f (49340897896191501446538149769271316663660579724534931242250342870442810886991)\n",
      "Coefficient 1: 0x5bb5dcc70e2c22cf2f4aa10726c51b4e93015aaa3a9b8e0c450207049fca1476 (41481792290520338162541112807225030972017896044787393839984835575649174951030)\n",
      "Coefficient 2: 0x226dda65976ee2789aec4cf782a57832cfac0788e6c7a966e59274d66288ff23 (15572730501497886164065262166576630269366390600987410886244226749817810386723)\n",
      "Coefficient 3: 0x1f60c3b3664db27448777273c8d454606a199a4671f0fe3a05c956172f8ef0e8 (14192666301441876992929939833724802604030561544108090403664315300150904811752)\n",
      "Coefficient 4: 0x1bd285d2a1ea467ed93e5206bc7adb86c4eb5baa895b8af3d4b59032eb631cfd (12584408406256230699056038530560481312262539027868768306999929407370208419069)\n",
      "Coefficient 5: 0x4812e2fae03c68c613d63d0d6e180acac5ca6e4b58f43f495b0225c68d5a0286 (32599894903437036602913520877522829786002829137859750704531864156300788761222)\n",
      "Coefficient 6: 0x5b36fc55a9afb3ad0a85b05bdaa5c459bd488ff5daf067d4f2c2335948cb036c (41257620512120188870124306784352911499026276492462191714676039195130854048620)\n",
      "Coefficient 7: 0x688b8d8162b34d7605de5261fdc44cd8fdc257afa1a8a5bb02ac9af201c260e6 (47287104629126282732094387651621771266274911110173711277925789673871837913318)\n",
      "--------------------------------------------------\n",
      "--------------------------------------------------\n",
      "Coefficient 0: 0x68a94bcac68c951b5655fe7c4c7f74b0002ad44b4768e9f2ab4e341a14b00ed0 (47339656504402153414486443150624071523576773682672563262472868811140418768592)\n",
      "Coefficient 1: 0xceb641079d2b13880465d7569bdf056041ed6253007393a79a53c6a2558af48 (5843653862045403772572549458524393156126700576323294471207458208352252243784)\n",
      "Coefficient 2: 0x5f2ad438c39dd5d524a97bd415c5b7938848dd7dcaa378e4dcbc0af88c9e351c (43045392892714358542235614673650268926610049117210655428168767045923162174748)\n",
      "Coefficient 3: 0x5c0ff030def9bf21311ec199363072e8404c4f29cb49a74a0497c6ebaa4be78e (41640942512314921796457440310367068134954376795288004436276061601495182469006)\n",
      "Coefficient 4: 0xe28b9330e90e93223393ee450f2aaa91cd4b4e973293017cc3485556aa73224 (6404331962322286068099618794789022562083268602424232857592679823363942068772)\n",
      "Coefficient 5: 0x64b305c396396df2e9742c74aa633409e6fc8e162e54414aaf9008334845646d (45547590264663772550776643391684826080884439363280730151919175953494856524909)\n",
      "Coefficient 6: 0x32dad7ece38b8b1e283e3989b4e5fba890b943079b30b81a4c0aa609ac6e9edc (23002305351260275667098011324103651614725770342208168377156016312797593771740)\n",
      "Coefficient 7: 0x256dada3cf9e97890487891363907e9f6ed9c6c14ddf719fdf12a41b9bd90e72 (16929360146095887087951293670610400731668139942955715347917510165512358268530)\n",
      "--------------------------------------------------\n"
     ]
    }
   ],
   "source": [
    "# Double Check C++ output\n",
    "\n",
    "def read_bigint_file(filename, element_size=32):\n",
    "    values = []\n",
    "    with open(filename, \"rb\") as f:\n",
    "        while True:\n",
    "            data = f.read(element_size)\n",
    "            if not data:\n",
    "                break\n",
    "            value = int.from_bytes(data, byteorder='little', signed=False)\n",
    "            values.append(mpz(value))\n",
    "    return values\n",
    "\n",
    "def main():\n",
    "    # Read input polynomials from binary files\n",
    "    a = read_bigint_file(\"../build/data/input_a.txt\")\n",
    "    b = read_bigint_file(\"../build/data/input_b.txt\")\n",
    "    \n",
    "    # Parameters for NTT\n",
    "    modulus = mpz('0x73eda753299d7d483339d80809a1d80553bda402fffe5bfeffffffff00000001')\n",
    "\n",
    "    # Perform polynomial multiplication using NWC and NTT\n",
    "    c = polynomial_multiplication_ntt(a, b)\n",
    "    # Print the result\n",
    "    print_polynomial(a)\n",
    "    print_polynomial(b)\n",
    "    print_polynomial(c)\n",
    "\n",
    "if __name__ == \"__main__\":\n",
    "    main()\n"
   ]
  },
  {
   "cell_type": "code",
   "execution_count": 18,
   "metadata": {},
   "outputs": [
    {
     "name": "stdout",
     "output_type": "stream",
     "text": [
      "0x3ff007093d47cd14370f5585a6f9a02850bdac81591dce2ad4de45951169918e\n",
      "0x1f63261a17e7a4ecc9ee49f8ec4e51c7fd65a997812457b6fa4a64d424678003\n"
     ]
    }
   ],
   "source": [
    "A = 0x69a06a3b3f6677a49a1bbbc34e74e4fad0f07d0ded2040f0679455341ae888c9\n",
    "B = 0x5f699348721708d60f83e3205a8a172b30584d19880212f22b6d0c83fad7c5e6\n",
    "P = 0x73eda753299d7d483339d80809a1d80553bda402fffe5bfeffffffff00000001\n",
    "omega = 3465144826073652318776269530687742778270252468765361963008\n",
    "\n",
    "A_o = (A + B * omega) % P\n",
    "A_e = (A - B * omega) % P\n",
    "\n",
    "print(hex(o))\n",
    "print(hex(e))"
   ]
  },
  {
   "cell_type": "markdown",
   "metadata": {},
   "source": [
    "### Root of Unity Check"
   ]
  },
  {
   "cell_type": "code",
   "execution_count": 3,
   "metadata": {},
   "outputs": [
    {
     "name": "stdout",
     "output_type": "stream",
     "text": [
      "Primitive Root of 2^1\n"
     ]
    }
   ],
   "source": [
    "import gmpy2\n",
    "\n",
    "# Given values\n",
    "_modulus = mpz(\"52435875175126190479447740508185965837690552500527637822603658699938581184513\")\n",
    "_primitive_root = mpz(\"52435875175126190479447740508185965837690552500527637822603658699938581184512\")\n",
    "\n",
    "n = 0\n",
    "_poly_size = 1\n",
    "for i in range (32):\n",
    "    _poly_size *= 2\n",
    "    if gmpy2.powmod(_primitive_root, _poly_size, _modulus) == 1:\n",
    "        n = _poly_size.bit_length() - 1\n",
    "        break\n",
    "\n",
    "if n == 0:\n",
    "    print(\"Not a Primitive Root\")\n",
    "else : \n",
    "    print(\"Primitive Root of 2^\" + str(n))\n",
    "\n"
   ]
  },
  {
   "cell_type": "code",
   "execution_count": null,
   "metadata": {},
   "outputs": [],
   "source": []
  }
 ],
 "metadata": {
  "kernelspec": {
   "display_name": "Python 3",
   "language": "python",
   "name": "python3"
  },
  "language_info": {
   "codemirror_mode": {
    "name": "ipython",
    "version": 3
   },
   "file_extension": ".py",
   "mimetype": "text/x-python",
   "name": "python",
   "nbconvert_exporter": "python",
   "pygments_lexer": "ipython3",
   "version": "3.10.12"
  }
 },
 "nbformat": 4,
 "nbformat_minor": 2
}
