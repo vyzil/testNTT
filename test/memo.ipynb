{
 "cells": [
  {
   "cell_type": "markdown",
   "metadata": {},
   "source": [
    "## Polynomial Multiplication Using NTT"
   ]
  },
  {
   "cell_type": "code",
   "execution_count": 23,
   "metadata": {},
   "outputs": [
    {
     "name": "stdout",
     "output_type": "stream",
     "text": [
      "# NTT Test\n",
      "--------------------------------------------------\n",
      "Coefficient 0: 0x1 (1)\n",
      "Coefficient 1: 0x2 (2)\n",
      "Coefficient 2: 0x3 (3)\n",
      "Coefficient 3: 0x4 (4)\n",
      "--------------------------------------------------\n",
      "--------------------------------------------------\n",
      "Coefficient 0: 0x17eca7483bff965dbb7b51f57d45212903bf46cb83d2d5d5b4e01d1972ff3ff (676332872736091715400932514805816817517058529951182600044600057210235515903)\n",
      "Coefficient 1: 0x25445706b42db4fbb8700f1eba81edce3b3a4d680b1db0c9c47dffac3a36bbd3 (16856321630652652541711063120926853213552839024594827881273456975097823149011)\n",
      "Coefficient 2: 0xf130fef4fccb1eca790c9e4675a164dda55545e2cfa8636adac7d875d3d83a8 (6818372801006118123099606233844428212578938972943040083795105839868077245352)\n",
      "Coefficient 3: 0x5bf12a10628c24f182738a1288ef557d383a6ea08b1ad2a56d5872fdc6a109e8 (41586569678772800452265997504835559933602557602265551713680108862036018006504)\n",
      "--------------------------------------------------\n"
     ]
    }
   ],
   "source": [
    "import numpy as np\n",
    "import gmpy2\n",
    "from gmpy2 import mpz\n",
    "\n",
    "# Parameters for NTT\n",
    "MODULUS = mpz('52435875175126190479447740508185965837690552500527637822603658699938581184513')\n",
    "ROOT_OF_UNITY_BASE = mpz('10238227357739495823651030575849232062558860180284477541189508159991286009131') # 2^32\n",
    "\n",
    "def get_root_of_unity(n):\n",
    "    logn = n.bit_length() - 1\n",
    "    s = 32\n",
    "    if n != (1 << logn):\n",
    "        raise ValueError(\"Expected n to be a power of 2.\")\n",
    "    if logn > s:\n",
    "        raise ValueError(\"Expected logn <= s.\")\n",
    "    \n",
    "    # Calculate the root of unity for the given n\n",
    "    omega = ROOT_OF_UNITY_BASE\n",
    "    for _ in range(s, logn, -1):\n",
    "        omega = gmpy2.powmod(omega, 2, MODULUS)\n",
    "    \n",
    "    return omega\n",
    "\n",
    "def ntt(poly, omega, modulus, is_inv = False):\n",
    "    n = len(poly)\n",
    "    logn = n.bit_length() - 1\n",
    "    array = [mpz(e) for e in poly]\n",
    "    \n",
    "    # Bit-reverse permutation\n",
    "    j = 0\n",
    "    for i in range(1, n):\n",
    "        bit = n >> 1\n",
    "        while j & bit:\n",
    "            j ^= bit\n",
    "            bit >>= 1\n",
    "        j ^= bit\n",
    "        if i < j:\n",
    "            array[i], array[j] = array[j], array[i]\n",
    "\n",
    "    if is_inv == True:\n",
    "        omega = gmpy2.invert(omega, modulus)\n",
    "    \n",
    "    # Iterative NTT\n",
    "    group_size = 1\n",
    "    for stage in range(1, logn+1):\n",
    "        group_size *= 2\n",
    "        # group_omega_mult = gmpy2.powmod(omega, n//group_size, modulus)   # CC\n",
    "        group_omega_mult = gmpy2.powmod(omega, 2*n//group_size, modulus) # NWC\n",
    "        for group in range(0, n, group_size):\n",
    "            # factor = mpz(1) # CC\n",
    "            factor = omega  # NWC\n",
    "            for operation in range(group_size // 2):\n",
    "                bw = (factor * array[group + operation + group_size // 2]) % modulus\n",
    "                a  = array[group + operation]\n",
    "                array[group + operation]                   = (a + bw) % modulus\n",
    "                array[group + operation + group_size // 2] = (a - bw) % modulus\n",
    "                factor = (factor * group_omega_mult) % modulus\n",
    "    \n",
    "    if(is_inv):\n",
    "        n_inv = pow(n, -1, modulus)\n",
    "        array = [(x * n_inv) % modulus for x in array]\n",
    "\n",
    "    return array\n",
    "\n",
    "# Function to perform polynomial multiplication using NWC\n",
    "def polynomial_multiplication_ntt(a, b):\n",
    "    n = len(a)\n",
    "    omega = get_root_of_unity(2*n)\n",
    "    print(\"omega :\", omega)\n",
    "    modulus = MODULUS\n",
    "\n",
    "    ntt_a = ntt(a, omega, modulus)\n",
    "    ntt_b = ntt(b, omega, modulus)\n",
    "    ntt_c = [(ntt_a[i] * ntt_b[i]) % modulus for i in range(n)]\n",
    "    c = ntt(ntt_c, omega, modulus, is_inv=True)\n",
    "    \n",
    "    return c\n",
    "\n",
    "def print_polynomial(a):\n",
    "    print('-'*50)\n",
    "    for i, coeff in enumerate(a):\n",
    "        print(f\"Coefficient {i}: {hex(coeff)} ({coeff})\")\n",
    "    print('-'*50)\n",
    "\n",
    "\n",
    "# Test Code\n",
    "original_poly = [1, 2, 3, 4]\n",
    "modulus = mpz('0x73eda753299d7d483339d80809a1d80553bda402fffe5bfeffffffff00000001')\n",
    "\n",
    "omega = get_root_of_unity(2*len(original_poly))\n",
    "\n",
    "ntt_result = ntt(original_poly, omega, modulus)\n",
    "inv_result = ntt(ntt_result, omega, modulus, is_inv=True)\n",
    "\n",
    "print(\"# NTT Test\")\n",
    "print_polynomial(original_poly)\n",
    "print_polynomial(inv_result)"
   ]
  },
  {
   "cell_type": "code",
   "execution_count": 24,
   "metadata": {},
   "outputs": [
    {
     "name": "stdout",
     "output_type": "stream",
     "text": [
      "omega : 3465144826073652318776269530687742778270252468765361963008\n",
      "--------------------------------------------------\n",
      "Coefficient 0: 0x1 (1)\n",
      "Coefficient 1: 0x2 (2)\n",
      "--------------------------------------------------\n",
      "--------------------------------------------------\n",
      "Coefficient 0: 0x3 (3)\n",
      "Coefficient 1: 0x5 (5)\n",
      "--------------------------------------------------\n",
      "--------------------------------------------------\n",
      "Coefficient 0: 0x4f7e03342261b2b584c1b0016261b00000008fffffffffff7 (31186303434662870868986425776189685004432272218888257667063)\n",
      "Coefficient 1: 0x11aa3999cec0609a1d8060004ec0600000002000000000002 (6930289652147304637552539061375485556540504937530723926018)\n",
      "--------------------------------------------------\n"
     ]
    }
   ],
   "source": [
    "# Read input polynomials from binary files\n",
    "a = [mpz(1), mpz(2)]\n",
    "b = [mpz(3), mpz(5)]\n",
    "\n",
    "# Perform polynomial multiplication using NWC and NTT\n",
    "c = polynomial_multiplication_ntt(a, b)\n",
    "\n",
    "# Print the result\n",
    "print_polynomial(a)\n",
    "print_polynomial(b)\n",
    "print_polynomial(c)"
   ]
  },
  {
   "cell_type": "code",
   "execution_count": 52,
   "metadata": {},
   "outputs": [
    {
     "name": "stdout",
     "output_type": "stream",
     "text": [
      "--------------------------------------------------\n",
      "Coefficient 0: 0x103ddbb56511e8ad72635cf9fcb37761303b3357b585ddef4196433a9e05aeb1 (7346299621127946297075567016002085968144408807773727290984631736966461107889)\n",
      "Coefficient 1: 0x61985853a9a672a5e2c58180c6335eb2654606026d8b7d8faa1510dc01cc570c (44143516675643494996759749620782296438877098200381385840048821502585403627276)\n",
      "Coefficient 2: 0x8783ccde718c38770a453132f7730d10f19ccc27b28049ed5c860bb77ba5732 (3830944092346738032114966288029954732053062639602335535784584908736449632050)\n",
      "Coefficient 3: 0x66d98795a1b03fb5f62df7f91cfaf7df144595481193a4d07eb8ae0bcc151f9c (46520252138366734683603620910390867249064017136673153941519093918913103470492)\n",
      "--------------------------------------------------\n",
      "--------------------------------------------------\n",
      "Coefficient 0: 0x6737126bed7b2f0236e93a38fcb61b9f5edb692295571e55c0f53ee63303b5fb (46685527133797472686420480590910538180586674551187103060334512123811375330811)\n",
      "Coefficient 1: 0x34515984d975851fe2b3d44a98e1e64c90d8a5d1ff1a908d9356ae4cf8397ec1 (23664000575615837973457961146917915395539359183677235736546767867463792688833)\n",
      "Coefficient 2: 0x61f3d65eb7d46087becc60c74c685f231361635930111590188037fa2089e6cb (44305169676630703192135170765321812775805240880403938966214021107500832122571)\n",
      "Coefficient 3: 0x1b04048190e7d684a4b5d9e3704386522a978c8873614a539c8aed81d9af9343 (12219545400086155853900889971380771281793250320386474457301917035121968386883)\n",
      "--------------------------------------------------\n",
      "--------------------------------------------------\n",
      "Coefficient 0: 0x7188b2c7da597c54d89bc407bb09fe36236223ad6c28e9d2a9a1b29c835fb547 (51352876989592969491391562492120221331601539302058499099191412428575281755463)\n",
      "Coefficient 1: 0x33d60f03f9aef224c4ebe0d7cbc81c0e4f4ae68decb42f1a4d5b63b9ed9e8970 (23446164182978931097004172508528052878451624367343690519697048219049384642928)\n",
      "Coefficient 2: 0x1a35987a5b8e60bc9da95ad4580b2e6796e8cbfa2f0451d7233a9519526cee8c (11854829321798375428884919650664845121496118977991708015189198932221119753868)\n",
      "Coefficient 3: 0x6985d2a86c70646d720abb2c0c47f86331fc93908842db816f8b60365344ff72 (47729293668282325003350446884724303929435702526693142082604501534374556401522)\n",
      "--------------------------------------------------\n"
     ]
    }
   ],
   "source": [
    "# Double Check C++ output\n",
    "\n",
    "def read_bigint_file(filename, element_size=32):\n",
    "    values = []\n",
    "    with open(filename, \"rb\") as f:\n",
    "        while True:\n",
    "            data = f.read(element_size)\n",
    "            if not data:\n",
    "                break\n",
    "            value = int.from_bytes(data, byteorder='little', signed=False)\n",
    "            values.append(mpz(value))\n",
    "    return values\n",
    "\n",
    "def main():\n",
    "    # Read input polynomials from binary files\n",
    "    a = read_bigint_file(\"../build/data/input_a.txt\")\n",
    "    b = read_bigint_file(\"../build/data/input_b.txt\")\n",
    "    \n",
    "    # Parameters for NTT\n",
    "    modulus = mpz('0x73eda753299d7d483339d80809a1d80553bda402fffe5bfeffffffff00000001')\n",
    "    omega = mpz('23674694431658770659612952115660802947967373701506253797663184111817857449850')\n",
    "    # Primitive 2n-th root of unity\n",
    "\n",
    "    # Perform polynomial multiplication using NWC and NTT\n",
    "    c = polynomial_multiplication_ntt(a, b, omega, modulus)\n",
    "\n",
    "    # Print the result\n",
    "    print_polynomial(a)\n",
    "    print_polynomial(b)\n",
    "    print_polynomial(c)\n",
    "\n",
    "if __name__ == \"__main__\":\n",
    "    main()\n"
   ]
  },
  {
   "cell_type": "code",
   "execution_count": 18,
   "metadata": {},
   "outputs": [
    {
     "name": "stdout",
     "output_type": "stream",
     "text": [
      "0x3ff007093d47cd14370f5585a6f9a02850bdac81591dce2ad4de45951169918e\n",
      "0x1f63261a17e7a4ecc9ee49f8ec4e51c7fd65a997812457b6fa4a64d424678003\n"
     ]
    }
   ],
   "source": [
    "A = 0x69a06a3b3f6677a49a1bbbc34e74e4fad0f07d0ded2040f0679455341ae888c9\n",
    "B = 0x5f699348721708d60f83e3205a8a172b30584d19880212f22b6d0c83fad7c5e6\n",
    "P = 0x73eda753299d7d483339d80809a1d80553bda402fffe5bfeffffffff00000001\n",
    "omega = 3465144826073652318776269530687742778270252468765361963008\n",
    "\n",
    "A_o = (A + B * omega) % P\n",
    "A_e = (A - B * omega) % P\n",
    "\n",
    "print(hex(o))\n",
    "print(hex(e))"
   ]
  },
  {
   "cell_type": "markdown",
   "metadata": {},
   "source": [
    "### Root of Unity Check"
   ]
  },
  {
   "cell_type": "code",
   "execution_count": 3,
   "metadata": {},
   "outputs": [
    {
     "name": "stdout",
     "output_type": "stream",
     "text": [
      "Primitive Root of 2^1\n"
     ]
    }
   ],
   "source": [
    "import gmpy2\n",
    "\n",
    "# Given values\n",
    "_modulus = mpz(\"52435875175126190479447740508185965837690552500527637822603658699938581184513\")\n",
    "_primitive_root = mpz(\"52435875175126190479447740508185965837690552500527637822603658699938581184512\")\n",
    "\n",
    "n = 0\n",
    "_poly_size = 1\n",
    "for i in range (32):\n",
    "    _poly_size *= 2\n",
    "    if gmpy2.powmod(_primitive_root, _poly_size, _modulus) == 1:\n",
    "        n = _poly_size.bit_length() - 1\n",
    "        break\n",
    "\n",
    "if n == 0:\n",
    "    print(\"Not a Primitive Root\")\n",
    "else : \n",
    "    print(\"Primitive Root of 2^\" + str(n))\n",
    "\n"
   ]
  },
  {
   "cell_type": "code",
   "execution_count": null,
   "metadata": {},
   "outputs": [],
   "source": []
  }
 ],
 "metadata": {
  "kernelspec": {
   "display_name": "Python 3",
   "language": "python",
   "name": "python3"
  },
  "language_info": {
   "codemirror_mode": {
    "name": "ipython",
    "version": 3
   },
   "file_extension": ".py",
   "mimetype": "text/x-python",
   "name": "python",
   "nbconvert_exporter": "python",
   "pygments_lexer": "ipython3",
   "version": "3.10.12"
  }
 },
 "nbformat": 4,
 "nbformat_minor": 2
}
